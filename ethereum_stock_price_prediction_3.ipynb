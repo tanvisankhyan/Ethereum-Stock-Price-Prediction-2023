{
 "cells": [
  {
   "cell_type": "code",
   "execution_count": null,
   "id": "5a2221d7",
   "metadata": {},
   "outputs": [],
   "source": [
    "!pip install numpy\n",
    "!pip install pandas\n",
    "!pip install keras\n",
    "!pip install matplotlib\n",
    "!pip install scikit-learn"
   ]
  },
  {
   "cell_type": "markdown",
   "id": "13b85af9",
   "metadata": {},
   "source": [
    "#### I collected the Ethereum Canada dataset for last 5 year starting Jan,2017 till Dec, 2022 and test dataset of the january month 2023 from \n",
    "ca.finance.yahoo.com"
   ]
  },
  {
   "cell_type": "code",
   "execution_count": 1,
   "id": "e9e38fd6",
   "metadata": {},
   "outputs": [],
   "source": [
    "import numpy as np\n",
    "import pandas as pd\n",
    "import matplotlib.pyplot as plt\n",
    "from sklearn.preprocessing import MinMaxScaler"
   ]
  },
  {
   "cell_type": "code",
   "execution_count": 2,
   "id": "c98dbc58",
   "metadata": {},
   "outputs": [
    {
     "data": {
      "text/html": [
       "<div>\n",
       "<style scoped>\n",
       "    .dataframe tbody tr th:only-of-type {\n",
       "        vertical-align: middle;\n",
       "    }\n",
       "\n",
       "    .dataframe tbody tr th {\n",
       "        vertical-align: top;\n",
       "    }\n",
       "\n",
       "    .dataframe thead th {\n",
       "        text-align: right;\n",
       "    }\n",
       "</style>\n",
       "<table border=\"1\" class=\"dataframe\">\n",
       "  <thead>\n",
       "    <tr style=\"text-align: right;\">\n",
       "      <th></th>\n",
       "      <th>Date</th>\n",
       "      <th>Open</th>\n",
       "      <th>High</th>\n",
       "      <th>Low</th>\n",
       "      <th>Close</th>\n",
       "      <th>Adj Close</th>\n",
       "      <th>Volume</th>\n",
       "    </tr>\n",
       "  </thead>\n",
       "  <tbody>\n",
       "    <tr>\n",
       "      <th>0</th>\n",
       "      <td>2018-01-01</td>\n",
       "      <td>950.515625</td>\n",
       "      <td>981.918701</td>\n",
       "      <td>933.218445</td>\n",
       "      <td>970.050781</td>\n",
       "      <td>970.050781</td>\n",
       "      <td>3258976841</td>\n",
       "    </tr>\n",
       "    <tr>\n",
       "      <th>1</th>\n",
       "      <td>2018-01-02</td>\n",
       "      <td>969.680420</td>\n",
       "      <td>1147.471313</td>\n",
       "      <td>969.680420</td>\n",
       "      <td>1106.174072</td>\n",
       "      <td>1106.174072</td>\n",
       "      <td>7233235545</td>\n",
       "    </tr>\n",
       "    <tr>\n",
       "      <th>2</th>\n",
       "      <td>2018-01-03</td>\n",
       "      <td>1108.120239</td>\n",
       "      <td>1222.278931</td>\n",
       "      <td>1087.040161</td>\n",
       "      <td>1207.539673</td>\n",
       "      <td>1207.539673</td>\n",
       "      <td>6388350508</td>\n",
       "    </tr>\n",
       "    <tr>\n",
       "      <th>3</th>\n",
       "      <td>2018-01-04</td>\n",
       "      <td>1206.276611</td>\n",
       "      <td>1304.991333</td>\n",
       "      <td>1185.540405</td>\n",
       "      <td>1225.171631</td>\n",
       "      <td>1225.171631</td>\n",
       "      <td>8122071860</td>\n",
       "    </tr>\n",
       "    <tr>\n",
       "      <th>4</th>\n",
       "      <td>2018-01-05</td>\n",
       "      <td>1218.711792</td>\n",
       "      <td>1334.236450</td>\n",
       "      <td>1186.416870</td>\n",
       "      <td>1237.671631</td>\n",
       "      <td>1237.671631</td>\n",
       "      <td>8290447357</td>\n",
       "    </tr>\n",
       "    <tr>\n",
       "      <th>5</th>\n",
       "      <td>2018-01-06</td>\n",
       "      <td>1234.488525</td>\n",
       "      <td>1315.810669</td>\n",
       "      <td>1233.828613</td>\n",
       "      <td>1292.204102</td>\n",
       "      <td>1292.204102</td>\n",
       "      <td>5783483632</td>\n",
       "    </tr>\n",
       "    <tr>\n",
       "      <th>6</th>\n",
       "      <td>2018-01-07</td>\n",
       "      <td>1293.853882</td>\n",
       "      <td>1429.123657</td>\n",
       "      <td>1293.853882</td>\n",
       "      <td>1429.123657</td>\n",
       "      <td>1429.123657</td>\n",
       "      <td>6902752363</td>\n",
       "    </tr>\n",
       "    <tr>\n",
       "      <th>7</th>\n",
       "      <td>2018-01-08</td>\n",
       "      <td>1435.431641</td>\n",
       "      <td>1570.866577</td>\n",
       "      <td>1262.645264</td>\n",
       "      <td>1425.900024</td>\n",
       "      <td>1425.900024</td>\n",
       "      <td>10491879394</td>\n",
       "    </tr>\n",
       "    <tr>\n",
       "      <th>8</th>\n",
       "      <td>2018-01-09</td>\n",
       "      <td>1422.759033</td>\n",
       "      <td>1645.412720</td>\n",
       "      <td>1422.240356</td>\n",
       "      <td>1621.295654</td>\n",
       "      <td>1621.295654</td>\n",
       "      <td>9936114764</td>\n",
       "    </tr>\n",
       "    <tr>\n",
       "      <th>9</th>\n",
       "      <td>2018-01-10</td>\n",
       "      <td>1622.044067</td>\n",
       "      <td>1766.197266</td>\n",
       "      <td>1536.684448</td>\n",
       "      <td>1573.667969</td>\n",
       "      <td>1573.667969</td>\n",
       "      <td>11547254346</td>\n",
       "    </tr>\n",
       "  </tbody>\n",
       "</table>\n",
       "</div>"
      ],
      "text/plain": [
       "         Date         Open         High          Low        Close  \\\n",
       "0  2018-01-01   950.515625   981.918701   933.218445   970.050781   \n",
       "1  2018-01-02   969.680420  1147.471313   969.680420  1106.174072   \n",
       "2  2018-01-03  1108.120239  1222.278931  1087.040161  1207.539673   \n",
       "3  2018-01-04  1206.276611  1304.991333  1185.540405  1225.171631   \n",
       "4  2018-01-05  1218.711792  1334.236450  1186.416870  1237.671631   \n",
       "5  2018-01-06  1234.488525  1315.810669  1233.828613  1292.204102   \n",
       "6  2018-01-07  1293.853882  1429.123657  1293.853882  1429.123657   \n",
       "7  2018-01-08  1435.431641  1570.866577  1262.645264  1425.900024   \n",
       "8  2018-01-09  1422.759033  1645.412720  1422.240356  1621.295654   \n",
       "9  2018-01-10  1622.044067  1766.197266  1536.684448  1573.667969   \n",
       "\n",
       "     Adj Close       Volume  \n",
       "0   970.050781   3258976841  \n",
       "1  1106.174072   7233235545  \n",
       "2  1207.539673   6388350508  \n",
       "3  1225.171631   8122071860  \n",
       "4  1237.671631   8290447357  \n",
       "5  1292.204102   5783483632  \n",
       "6  1429.123657   6902752363  \n",
       "7  1425.900024  10491879394  \n",
       "8  1621.295654   9936114764  \n",
       "9  1573.667969  11547254346  "
      ]
     },
     "execution_count": 2,
     "metadata": {},
     "output_type": "execute_result"
    }
   ],
   "source": [
    "train_data= pd.read_csv(\"ETH-CAD-TRAIN.csv\")\n",
    "train_data.head(10)"
   ]
  },
  {
   "cell_type": "code",
   "execution_count": 3,
   "id": "1425038c",
   "metadata": {},
   "outputs": [
    {
     "data": {
      "text/html": [
       "<div>\n",
       "<style scoped>\n",
       "    .dataframe tbody tr th:only-of-type {\n",
       "        vertical-align: middle;\n",
       "    }\n",
       "\n",
       "    .dataframe tbody tr th {\n",
       "        vertical-align: top;\n",
       "    }\n",
       "\n",
       "    .dataframe thead th {\n",
       "        text-align: right;\n",
       "    }\n",
       "</style>\n",
       "<table border=\"1\" class=\"dataframe\">\n",
       "  <thead>\n",
       "    <tr style=\"text-align: right;\">\n",
       "      <th></th>\n",
       "      <th>Date</th>\n",
       "      <th>Open</th>\n",
       "      <th>High</th>\n",
       "      <th>Low</th>\n",
       "      <th>Close</th>\n",
       "      <th>Adj Close</th>\n",
       "      <th>Volume</th>\n",
       "    </tr>\n",
       "  </thead>\n",
       "  <tbody>\n",
       "    <tr>\n",
       "      <th>0</th>\n",
       "      <td>2023-01-01</td>\n",
       "      <td>1623.880615</td>\n",
       "      <td>1631.383057</td>\n",
       "      <td>1618.685913</td>\n",
       "      <td>1625.373779</td>\n",
       "      <td>1625.373779</td>\n",
       "      <td>3247695539</td>\n",
       "    </tr>\n",
       "    <tr>\n",
       "      <th>1</th>\n",
       "      <td>2023-01-02</td>\n",
       "      <td>1625.561157</td>\n",
       "      <td>1656.265747</td>\n",
       "      <td>1616.793701</td>\n",
       "      <td>1647.529907</td>\n",
       "      <td>1647.529907</td>\n",
       "      <td>5107780682</td>\n",
       "    </tr>\n",
       "    <tr>\n",
       "      <th>2</th>\n",
       "      <td>2023-01-03</td>\n",
       "      <td>1647.648438</td>\n",
       "      <td>1653.166504</td>\n",
       "      <td>1652.023560</td>\n",
       "      <td>1660.974365</td>\n",
       "      <td>1660.974365</td>\n",
       "      <td>4639231152</td>\n",
       "    </tr>\n",
       "    <tr>\n",
       "      <th>3</th>\n",
       "      <td>2023-01-04</td>\n",
       "      <td>1660.891968</td>\n",
       "      <td>1707.519165</td>\n",
       "      <td>1657.093994</td>\n",
       "      <td>1694.551758</td>\n",
       "      <td>1694.551758</td>\n",
       "      <td>8636996622</td>\n",
       "    </tr>\n",
       "    <tr>\n",
       "      <th>4</th>\n",
       "      <td>2023-01-05</td>\n",
       "      <td>1694.495117</td>\n",
       "      <td>1696.957153</td>\n",
       "      <td>1686.806030</td>\n",
       "      <td>1695.988525</td>\n",
       "      <td>1695.988525</td>\n",
       "      <td>5427682997</td>\n",
       "    </tr>\n",
       "    <tr>\n",
       "      <th>5</th>\n",
       "      <td>2023-01-06</td>\n",
       "      <td>1696.016357</td>\n",
       "      <td>1710.864380</td>\n",
       "      <td>1694.184937</td>\n",
       "      <td>1707.251343</td>\n",
       "      <td>1707.251343</td>\n",
       "      <td>6694156142</td>\n",
       "    </tr>\n",
       "    <tr>\n",
       "      <th>6</th>\n",
       "      <td>2023-01-07</td>\n",
       "      <td>1707.306030</td>\n",
       "      <td>1708.891235</td>\n",
       "      <td>1697.691528</td>\n",
       "      <td>1700.380371</td>\n",
       "      <td>1700.380371</td>\n",
       "      <td>3450083961</td>\n",
       "    </tr>\n",
       "    <tr>\n",
       "      <th>7</th>\n",
       "      <td>2023-01-08</td>\n",
       "      <td>1700.261475</td>\n",
       "      <td>1729.761841</td>\n",
       "      <td>1694.942017</td>\n",
       "      <td>1729.761841</td>\n",
       "      <td>1729.761841</td>\n",
       "      <td>4696179702</td>\n",
       "    </tr>\n",
       "    <tr>\n",
       "      <th>8</th>\n",
       "      <td>2023-01-09</td>\n",
       "      <td>1729.884521</td>\n",
       "      <td>1794.536621</td>\n",
       "      <td>1729.433960</td>\n",
       "      <td>1770.115479</td>\n",
       "      <td>1770.115479</td>\n",
       "      <td>10702673426</td>\n",
       "    </tr>\n",
       "    <tr>\n",
       "      <th>9</th>\n",
       "      <td>2023-01-10</td>\n",
       "      <td>1769.923340</td>\n",
       "      <td>1802.460815</td>\n",
       "      <td>1767.363037</td>\n",
       "      <td>1795.667358</td>\n",
       "      <td>1795.667358</td>\n",
       "      <td>7832680350</td>\n",
       "    </tr>\n",
       "  </tbody>\n",
       "</table>\n",
       "</div>"
      ],
      "text/plain": [
       "         Date         Open         High          Low        Close  \\\n",
       "0  2023-01-01  1623.880615  1631.383057  1618.685913  1625.373779   \n",
       "1  2023-01-02  1625.561157  1656.265747  1616.793701  1647.529907   \n",
       "2  2023-01-03  1647.648438  1653.166504  1652.023560  1660.974365   \n",
       "3  2023-01-04  1660.891968  1707.519165  1657.093994  1694.551758   \n",
       "4  2023-01-05  1694.495117  1696.957153  1686.806030  1695.988525   \n",
       "5  2023-01-06  1696.016357  1710.864380  1694.184937  1707.251343   \n",
       "6  2023-01-07  1707.306030  1708.891235  1697.691528  1700.380371   \n",
       "7  2023-01-08  1700.261475  1729.761841  1694.942017  1729.761841   \n",
       "8  2023-01-09  1729.884521  1794.536621  1729.433960  1770.115479   \n",
       "9  2023-01-10  1769.923340  1802.460815  1767.363037  1795.667358   \n",
       "\n",
       "     Adj Close       Volume  \n",
       "0  1625.373779   3247695539  \n",
       "1  1647.529907   5107780682  \n",
       "2  1660.974365   4639231152  \n",
       "3  1694.551758   8636996622  \n",
       "4  1695.988525   5427682997  \n",
       "5  1707.251343   6694156142  \n",
       "6  1700.380371   3450083961  \n",
       "7  1729.761841   4696179702  \n",
       "8  1770.115479  10702673426  \n",
       "9  1795.667358   7832680350  "
      ]
     },
     "execution_count": 3,
     "metadata": {},
     "output_type": "execute_result"
    }
   ],
   "source": [
    "test_data= pd.read_csv(\"ETH-CAD-TEST.csv\")\n",
    "test_data.head(10)"
   ]
  },
  {
   "cell_type": "code",
   "execution_count": 4,
   "id": "8c67f693",
   "metadata": {},
   "outputs": [
    {
     "name": "stdout",
     "output_type": "stream",
     "text": [
      "Train Data\n"
     ]
    },
    {
     "data": {
      "image/png": "[encoded data removed]",
      "text/plain": [
       "<Figure size 640x480 with 1 Axes>"
      ]
     },
     "metadata": {},
     "output_type": "display_data"
    },
    {
     "name": "stdout",
     "output_type": "stream",
     "text": [
      "\n",
      "Test Data\n"
     ]
    },
    {
     "data": {
      "image/png": "[encoded data removed]",
      "text/plain": [
       "<Figure size 640x480 with 1 Axes>"
      ]
     },
     "metadata": {},
     "output_type": "display_data"
    }
   ],
   "source": [
    "print(\"Train Data\")\n",
    "df = pd.DataFrame(train_data, columns=[\"Date\", \"Open\"])\n",
    "df.plot.line(x='Date',y='Open',c='brown')\n",
    "plt.xticks(rotation=30)\n",
    "plt.show()\n",
    "\n",
    "print(\"\\nTest Data\")\n",
    "df1 = pd.DataFrame(test_data, columns=[\"Date\", \"Open\"])\n",
    "df1.plot.line(x='Date',y='Open',c='purple')\n",
    "plt.xticks(rotation=30)\n",
    "plt.show()"
   ]
  },
  {
   "cell_type": "code",
   "execution_count": 5,
   "id": "4b501f75",
   "metadata": {},
   "outputs": [
    {
     "name": "stdout",
     "output_type": "stream",
     "text": [
      "[[ 950.515625]\n",
      " [ 969.68042 ]\n",
      " [1108.120239]\n",
      " ...\n",
      " [1618.529297]\n",
      " [1628.638672]\n",
      " [1627.464478]]\n"
     ]
    }
   ],
   "source": [
    "training_set = train_data.iloc[:, 1:2].values\n",
    "print(training_set)"
   ]
  },
  {
   "cell_type": "code",
   "execution_count": 6,
   "id": "9b45dbee",
   "metadata": {},
   "outputs": [
    {
     "name": "stdout",
     "output_type": "stream",
     "text": [
      "[[-0.34019243]\n",
      " [-0.32746034]\n",
      " [-0.23548808]\n",
      " ...\n",
      " [ 0.10360128]\n",
      " [ 0.11031743]\n",
      " [ 0.10953735]]\n"
     ]
    }
   ],
   "source": [
    "#feature scaling - Standardization\n",
    "from sklearn.preprocessing import StandardScaler\n",
    "sc= StandardScaler()\n",
    "training_set_scale = sc.fit_transform(training_set)\n",
    "print(training_set_scale)"
   ]
  },
  {
   "cell_type": "code",
   "execution_count": 7,
   "id": "c4e25aab",
   "metadata": {},
   "outputs": [],
   "source": [
    "X_train = []\n",
    "y_train = []\n",
    "for i in range(80, 1826):\n",
    "    X_train.append(training_set_scale[i-80:i, 0])\n",
    "    y_train.append(training_set_scale[i, 0])\n",
    "X_train, y_train = np.array(X_train), np.array(y_train)\n"
   ]
  },
  {
   "cell_type": "code",
   "execution_count": 8,
   "id": "fe843aa5",
   "metadata": {},
   "outputs": [],
   "source": [
    "X_train = np.reshape(X_train, (X_train.shape[0], X_train.shape[1], 1))"
   ]
  },
  {
   "cell_type": "code",
   "execution_count": 9,
   "id": "07d5b689",
   "metadata": {},
   "outputs": [],
   "source": [
    "from keras.models import Sequential\n",
    "from keras.layers import LSTM\n",
    "from keras.layers import Dense\n",
    "from keras.layers import Dropout"
   ]
  },
  {
   "cell_type": "code",
   "execution_count": 10,
   "id": "89213d2d",
   "metadata": {},
   "outputs": [],
   "source": [
    "reg = Sequential()"
   ]
  },
  {
   "cell_type": "code",
   "execution_count": 11,
   "id": "bd6bed7e",
   "metadata": {},
   "outputs": [],
   "source": [
    "reg.add(LSTM(units = 60, return_sequences = True, input_shape = (X_train.shape[1], 1)))\n",
    "reg.add(Dropout(0.2))"
   ]
  },
  {
   "cell_type": "code",
   "execution_count": 12,
   "id": "d3af00ae",
   "metadata": {},
   "outputs": [],
   "source": [
    "reg.add(LSTM(units = 60, return_sequences = True))\n",
    "reg.add(Dropout(0.2))\n"
   ]
  },
  {
   "cell_type": "code",
   "execution_count": 13,
   "id": "c0446018",
   "metadata": {},
   "outputs": [],
   "source": [
    "reg.add(LSTM(units = 60, return_sequences = True))\n",
    "reg.add(Dropout(0.2))\n"
   ]
  },
  {
   "cell_type": "code",
   "execution_count": 14,
   "id": "87f4a30a",
   "metadata": {},
   "outputs": [],
   "source": [
    "reg.add(LSTM(units = 60))\n",
    "reg.add(Dropout(0.2))\n"
   ]
  },
  {
   "cell_type": "code",
   "execution_count": 15,
   "id": "f140dcf2",
   "metadata": {},
   "outputs": [],
   "source": [
    "reg.add(Dense(units = 1))"
   ]
  },
  {
   "cell_type": "code",
   "execution_count": 16,
   "id": "22c3a4fc",
   "metadata": {},
   "outputs": [],
   "source": [
    "reg.compile(optimizer = 'adam', loss = 'mean_squared_error')"
   ]
  },
  {
   "cell_type": "code",
   "execution_count": 17,
   "id": "244c0527",
   "metadata": {},
   "outputs": [
    {
     "name": "stdout",
     "output_type": "stream",
     "text": [
      "Epoch 1/100\n",
      "55/55 [==============================] - 35s 225ms/step - loss: 0.1481\n",
      "Epoch 2/100\n",
      "55/55 [==============================] - 12s 227ms/step - loss: 0.0499\n",
      "Epoch 3/100\n",
      "55/55 [==============================] - 12s 223ms/step - loss: 0.0400\n",
      "Epoch 4/100\n",
      "55/55 [==============================] - 12s 222ms/step - loss: 0.0369\n",
      "Epoch 5/100\n",
      "55/55 [==============================] - 12s 222ms/step - loss: 0.0337\n",
      "Epoch 6/100\n",
      "55/55 [==============================] - 12s 219ms/step - loss: 0.0313\n",
      "Epoch 7/100\n",
      "55/55 [==============================] - 12s 220ms/step - loss: 0.0294\n",
      "Epoch 8/100\n",
      "55/55 [==============================] - 12s 218ms/step - loss: 0.0266\n",
      "Epoch 9/100\n",
      "55/55 [==============================] - 12s 220ms/step - loss: 0.0251\n",
      "Epoch 10/100\n",
      "55/55 [==============================] - 12s 221ms/step - loss: 0.0256\n",
      "Epoch 11/100\n",
      "55/55 [==============================] - 12s 222ms/step - loss: 0.0237\n",
      "Epoch 12/100\n",
      "55/55 [==============================] - 12s 222ms/step - loss: 0.0229\n",
      "Epoch 13/100\n",
      "55/55 [==============================] - 12s 224ms/step - loss: 0.0212\n",
      "Epoch 14/100\n",
      "55/55 [==============================] - 12s 222ms/step - loss: 0.0204\n",
      "Epoch 15/100\n",
      "55/55 [==============================] - 12s 226ms/step - loss: 0.0186\n",
      "Epoch 16/100\n",
      "55/55 [==============================] - 12s 226ms/step - loss: 0.0220\n",
      "Epoch 17/100\n",
      "55/55 [==============================] - 12s 222ms/step - loss: 0.0186\n",
      "Epoch 18/100\n",
      "55/55 [==============================] - 12s 222ms/step - loss: 0.0190\n",
      "Epoch 19/100\n",
      "55/55 [==============================] - 12s 220ms/step - loss: 0.0186\n",
      "Epoch 20/100\n",
      "55/55 [==============================] - 12s 220ms/step - loss: 0.0183\n",
      "Epoch 21/100\n",
      "55/55 [==============================] - 12s 220ms/step - loss: 0.0184\n",
      "Epoch 22/100\n",
      "55/55 [==============================] - 12s 220ms/step - loss: 0.0168\n",
      "Epoch 23/100\n",
      "55/55 [==============================] - 12s 222ms/step - loss: 0.0163\n",
      "Epoch 24/100\n",
      "55/55 [==============================] - 12s 220ms/step - loss: 0.0176\n",
      "Epoch 25/100\n",
      "55/55 [==============================] - 12s 220ms/step - loss: 0.0166\n",
      "Epoch 26/100\n",
      "55/55 [==============================] - 12s 220ms/step - loss: 0.0174\n",
      "Epoch 27/100\n",
      "55/55 [==============================] - 12s 221ms/step - loss: 0.0162\n",
      "Epoch 28/100\n",
      "55/55 [==============================] - 12s 219ms/step - loss: 0.0180\n",
      "Epoch 29/100\n",
      "55/55 [==============================] - 12s 219ms/step - loss: 0.0168\n",
      "Epoch 30/100\n",
      "55/55 [==============================] - 12s 220ms/step - loss: 0.0159\n",
      "Epoch 31/100\n",
      "55/55 [==============================] - 12s 219ms/step - loss: 0.0168\n",
      "Epoch 32/100\n",
      "55/55 [==============================] - 12s 220ms/step - loss: 0.0150\n",
      "Epoch 33/100\n",
      "55/55 [==============================] - 12s 219ms/step - loss: 0.0165\n",
      "Epoch 34/100\n",
      "55/55 [==============================] - 12s 220ms/step - loss: 0.0152\n",
      "Epoch 35/100\n",
      "55/55 [==============================] - 12s 220ms/step - loss: 0.0174\n",
      "Epoch 36/100\n",
      "55/55 [==============================] - 12s 222ms/step - loss: 0.0157\n",
      "Epoch 37/100\n",
      "55/55 [==============================] - 12s 221ms/step - loss: 0.0170\n",
      "Epoch 38/100\n",
      "55/55 [==============================] - 12s 220ms/step - loss: 0.0146\n",
      "Epoch 39/100\n",
      "55/55 [==============================] - 12s 222ms/step - loss: 0.0163\n",
      "Epoch 40/100\n",
      "55/55 [==============================] - 12s 221ms/step - loss: 0.0160\n",
      "Epoch 41/100\n",
      "55/55 [==============================] - 12s 221ms/step - loss: 0.0147\n",
      "Epoch 42/100\n",
      "55/55 [==============================] - 12s 221ms/step - loss: 0.0148\n",
      "Epoch 43/100\n",
      "55/55 [==============================] - 12s 220ms/step - loss: 0.0124\n",
      "Epoch 44/100\n",
      "55/55 [==============================] - 12s 220ms/step - loss: 0.0124\n",
      "Epoch 45/100\n",
      "55/55 [==============================] - 12s 220ms/step - loss: 0.0132\n",
      "Epoch 46/100\n",
      "55/55 [==============================] - 12s 221ms/step - loss: 0.0143\n",
      "Epoch 47/100\n",
      "55/55 [==============================] - 12s 219ms/step - loss: 0.0140\n",
      "Epoch 48/100\n",
      "55/55 [==============================] - 12s 219ms/step - loss: 0.0132\n",
      "Epoch 49/100\n",
      "55/55 [==============================] - 12s 219ms/step - loss: 0.0125\n",
      "Epoch 50/100\n",
      "55/55 [==============================] - 12s 220ms/step - loss: 0.0124\n",
      "Epoch 51/100\n",
      "55/55 [==============================] - 12s 220ms/step - loss: 0.0130\n",
      "Epoch 52/100\n",
      "55/55 [==============================] - 12s 218ms/step - loss: 0.0136\n",
      "Epoch 53/100\n",
      "55/55 [==============================] - 12s 220ms/step - loss: 0.0136\n",
      "Epoch 54/100\n",
      "55/55 [==============================] - 12s 219ms/step - loss: 0.0137\n",
      "Epoch 55/100\n",
      "55/55 [==============================] - 12s 224ms/step - loss: 0.0134\n",
      "Epoch 56/100\n",
      "55/55 [==============================] - 12s 223ms/step - loss: 0.0154\n",
      "Epoch 57/100\n",
      "55/55 [==============================] - 12s 221ms/step - loss: 0.0122\n",
      "Epoch 58/100\n",
      "55/55 [==============================] - 12s 222ms/step - loss: 0.0136\n",
      "Epoch 59/100\n",
      "55/55 [==============================] - 12s 222ms/step - loss: 0.0146\n",
      "Epoch 60/100\n",
      "55/55 [==============================] - 12s 224ms/step - loss: 0.0142\n",
      "Epoch 61/100\n",
      "55/55 [==============================] - 12s 220ms/step - loss: 0.0125\n",
      "Epoch 62/100\n",
      "55/55 [==============================] - 12s 220ms/step - loss: 0.0134\n",
      "Epoch 63/100\n",
      "55/55 [==============================] - 12s 219ms/step - loss: 0.0111\n",
      "Epoch 64/100\n",
      "55/55 [==============================] - 12s 221ms/step - loss: 0.0125\n",
      "Epoch 65/100\n",
      "55/55 [==============================] - 12s 221ms/step - loss: 0.0136\n",
      "Epoch 66/100\n",
      "55/55 [==============================] - 12s 219ms/step - loss: 0.0137\n",
      "Epoch 67/100\n",
      "55/55 [==============================] - 12s 218ms/step - loss: 0.0138\n",
      "Epoch 68/100\n",
      "55/55 [==============================] - 12s 217ms/step - loss: 0.0138\n",
      "Epoch 69/100\n",
      "55/55 [==============================] - 12s 218ms/step - loss: 0.0141\n",
      "Epoch 70/100\n",
      "55/55 [==============================] - 12s 218ms/step - loss: 0.0121\n",
      "Epoch 71/100\n",
      "55/55 [==============================] - 12s 219ms/step - loss: 0.0125\n",
      "Epoch 72/100\n",
      "55/55 [==============================] - 12s 219ms/step - loss: 0.0143\n",
      "Epoch 73/100\n",
      "55/55 [==============================] - 12s 217ms/step - loss: 0.0136\n",
      "Epoch 74/100\n",
      "55/55 [==============================] - 12s 218ms/step - loss: 0.0134\n",
      "Epoch 75/100\n",
      "55/55 [==============================] - 12s 218ms/step - loss: 0.0142\n",
      "Epoch 76/100\n",
      "55/55 [==============================] - 12s 218ms/step - loss: 0.0124\n",
      "Epoch 77/100\n",
      "55/55 [==============================] - 12s 218ms/step - loss: 0.0129\n",
      "Epoch 78/100\n",
      "55/55 [==============================] - 12s 219ms/step - loss: 0.0121\n",
      "Epoch 79/100\n",
      "55/55 [==============================] - 12s 218ms/step - loss: 0.0134\n",
      "Epoch 80/100\n",
      "55/55 [==============================] - 12s 218ms/step - loss: 0.0132\n",
      "Epoch 81/100\n",
      "55/55 [==============================] - 12s 218ms/step - loss: 0.0127\n",
      "Epoch 82/100\n",
      "55/55 [==============================] - 12s 218ms/step - loss: 0.0109\n",
      "Epoch 83/100\n",
      "55/55 [==============================] - 12s 217ms/step - loss: 0.0121\n",
      "Epoch 84/100\n",
      "55/55 [==============================] - 12s 219ms/step - loss: 0.0147\n",
      "Epoch 85/100\n",
      "55/55 [==============================] - 12s 219ms/step - loss: 0.0138\n",
      "Epoch 86/100\n",
      "55/55 [==============================] - 12s 220ms/step - loss: 0.0118\n",
      "Epoch 87/100\n",
      "55/55 [==============================] - 12s 222ms/step - loss: 0.0138\n",
      "Epoch 88/100\n",
      "55/55 [==============================] - 12s 220ms/step - loss: 0.0131\n",
      "Epoch 89/100\n",
      "55/55 [==============================] - 12s 220ms/step - loss: 0.0133\n",
      "Epoch 90/100\n",
      "55/55 [==============================] - 12s 219ms/step - loss: 0.0120\n",
      "Epoch 91/100\n",
      "55/55 [==============================] - 12s 219ms/step - loss: 0.0111\n",
      "Epoch 92/100\n",
      "55/55 [==============================] - 12s 218ms/step - loss: 0.0125\n",
      "Epoch 93/100\n",
      "55/55 [==============================] - 12s 219ms/step - loss: 0.0117\n",
      "Epoch 94/100\n",
      "55/55 [==============================] - 12s 220ms/step - loss: 0.0121\n",
      "Epoch 95/100\n",
      "55/55 [==============================] - 12s 220ms/step - loss: 0.0134\n",
      "Epoch 96/100\n",
      "55/55 [==============================] - 12s 220ms/step - loss: 0.0104\n",
      "Epoch 97/100\n",
      "55/55 [==============================] - 12s 219ms/step - loss: 0.0133\n",
      "Epoch 98/100\n"
     ]
    },
    {
     "name": "stdout",
     "output_type": "stream",
     "text": [
      "55/55 [==============================] - 12s 220ms/step - loss: 0.0133\n",
      "Epoch 99/100\n",
      "55/55 [==============================] - 12s 221ms/step - loss: 0.0129\n",
      "Epoch 100/100\n",
      "55/55 [==============================] - 12s 217ms/step - loss: 0.0121\n"
     ]
    },
    {
     "data": {
      "text/plain": [
       "<keras.callbacks.History at 0x239eb41ef80>"
      ]
     },
     "execution_count": 17,
     "metadata": {},
     "output_type": "execute_result"
    }
   ],
   "source": [
    "reg.fit(X_train, y_train, epochs = 100, batch_size = 32)"
   ]
  },
  {
   "cell_type": "code",
   "execution_count": 18,
   "id": "0a011444",
   "metadata": {},
   "outputs": [],
   "source": [
    "actual_stockprice = test_data.iloc[:, 1:2].values"
   ]
  },
  {
   "cell_type": "code",
   "execution_count": 19,
   "id": "5162e662",
   "metadata": {},
   "outputs": [
    {
     "name": "stdout",
     "output_type": "stream",
     "text": [
      "1/1 [==============================] - 4s 4s/step\n"
     ]
    }
   ],
   "source": [
    "dataset_total = pd.concat((train_data['Open'], test_data['Open']), axis = 0)\n",
    "inputs = dataset_total[len(dataset_total) - len(test_data) - 80:].values\n",
    "inputs = inputs.reshape(-1,1)\n",
    "inputs = sc.transform(inputs)\n",
    "X_test = []\n",
    "for i in range(80, 110):\n",
    "    X_test.append(inputs[i-80:i, 0])\n",
    "X_test = np.array(X_test)\n",
    "X_test = np.reshape(X_test, (X_test.shape[0], X_test.shape[1], 1))\n",
    "predicted_stockprice = reg.predict(X_test)\n",
    "predicted_stockprice = sc.inverse_transform(predicted_stockprice)\n"
   ]
  },
  {
   "cell_type": "code",
   "execution_count": 20,
   "id": "1c0bf51b",
   "metadata": {},
   "outputs": [
    {
     "data": {
      "image/png": "[encoded data removed]",
      "text/plain": [
       "<Figure size 640x480 with 1 Axes>"
      ]
     },
     "metadata": {},
     "output_type": "display_data"
    }
   ],
   "source": [
    "plt.plot(actual_stockprice, color = 'green', label = 'Real Ethereum Stock Price')\n",
    "plt.plot(predicted_stockprice, color = 'blue', label = 'Predicted Ethereum Stock Price')\n",
    "plt.title('Ethereum Stock Price Prediction')\n",
    "plt.xlabel('Time')\n",
    "plt.ylabel('Ethereum Stock Price')\n",
    "plt.legend()\n",
    "plt.show()"
   ]
  },
  {
   "cell_type": "code",
   "execution_count": null,
   "id": "06bdf86b",
   "metadata": {},
   "outputs": [],
   "source": []
  },
  {
   "cell_type": "code",
   "execution_count": null,
   "id": "9a1d55d7",
   "metadata": {},
   "outputs": [],
   "source": []
  },
  {
   "cell_type": "code",
   "execution_count": null,
   "id": "9ce4866b",
   "metadata": {},
   "outputs": [],
   "source": []
  },
  {
   "cell_type": "code",
   "execution_count": null,
   "id": "44dab790",
   "metadata": {},
   "outputs": [],
   "source": []
  },
  {
   "cell_type": "code",
   "execution_count": null,
   "id": "5e60bcef",
   "metadata": {},
   "outputs": [],
   "source": []
  },
  {
   "cell_type": "code",
   "execution_count": null,
   "id": "24b3969d",
   "metadata": {},
   "outputs": [],
   "source": []
  },
  {
   "cell_type": "code",
   "execution_count": null,
   "id": "abebd017",
   "metadata": {},
   "outputs": [],
   "source": []
  },
  {
   "cell_type": "code",
   "execution_count": null,
   "id": "fca719d8",
   "metadata": {},
   "outputs": [],
   "source": []
  },
  {
   "cell_type": "code",
   "execution_count": null,
   "id": "c901a94b",
   "metadata": {},
   "outputs": [],
   "source": []
  },
  {
   "cell_type": "code",
   "execution_count": null,
   "id": "50d9e9ea",
   "metadata": {},
   "outputs": [],
   "source": []
  },
  {
   "cell_type": "code",
   "execution_count": null,
   "id": "cab9b2e5",
   "metadata": {},
   "outputs": [],
   "source": []
  },
  {
   "cell_type": "code",
   "execution_count": null,
   "id": "6ffbd3ec",
   "metadata": {},
   "outputs": [],
   "source": []
  },
  {
   "cell_type": "code",
   "execution_count": null,
   "id": "332d2e3c",
   "metadata": {},
   "outputs": [],
   "source": []
  },
  {
   "cell_type": "code",
   "execution_count": null,
   "id": "5a900f8a",
   "metadata": {},
   "outputs": [],
   "source": []
  },
  {
   "cell_type": "code",
   "execution_count": null,
   "id": "f5be21ee",
   "metadata": {},
   "outputs": [],
   "source": []
  },
  {
   "cell_type": "code",
   "execution_count": null,
   "id": "9583a111",
   "metadata": {},
   "outputs": [],
   "source": []
  },
  {
   "cell_type": "code",
   "execution_count": null,
   "id": "944f97e4",
   "metadata": {},
   "outputs": [],
   "source": []
  },
  {
   "cell_type": "code",
   "execution_count": null,
   "id": "47479309",
   "metadata": {},
   "outputs": [],
   "source": []
  },
  {
   "cell_type": "code",
   "execution_count": null,
   "id": "0279a77b",
   "metadata": {},
   "outputs": [],
   "source": []
  },
  {
   "cell_type": "code",
   "execution_count": null,
   "id": "d53e8590",
   "metadata": {},
   "outputs": [],
   "source": [
    "df = pd.DataFrame(train_data, columns=[\"Date\", \"Open\"])\n",
    "df.plot(x=\"Date\", y=\"Open\", kind=\"line\", figsize=(6, 4), c='black')\n",
    "plt.xticks(rotation=30)\n",
    "plt.show()\n",
    "print(\"    The line shows the changes in prices over the course of 5 years\")"
   ]
  }
 ],
 "metadata": {
  "kernelspec": {
   "display_name": "Python 3 (ipykernel)",
   "language": "python",
   "name": "python3"
  },
  "language_info": {
   "codemirror_mode": {
    "name": "ipython",
    "version": 3
   },
   "file_extension": ".py",
   "mimetype": "text/x-python",
   "name": "python",
   "nbconvert_exporter": "python",
   "pygments_lexer": "ipython3",
   "version": "3.10.9"
  }
 },
 "nbformat": 4,
 "nbformat_minor": 5
}
